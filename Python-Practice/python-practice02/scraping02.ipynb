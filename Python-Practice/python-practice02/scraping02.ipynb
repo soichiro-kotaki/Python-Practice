{
 "cells": [
  {
   "cell_type": "code",
   "execution_count": 12,
   "id": "f098da88-eb99-4a1c-a953-a74b548fe7a2",
   "metadata": {},
   "outputs": [],
   "source": [
    "from bs4 import BeautifulSoup\n",
    "import urllib.request as req\n",
    "import pandas as pd\n",
    "\n",
    "\"\"\"\n",
    "①解析したいサイトのurlを変数urlに代入\n",
    "②requestモジュールのurlopenメソッドで、引数に指定したurlのサイトの全てのhtmlタグを取得\n",
    "③BeautifulSoupメソッドで引数に指定したhtmlタグを解析し、変数に代入\n",
    "④解析したhtmlタグの内、aタグをfind_allメソッドで全て抽出し、変数にリストとして代入\n",
    "\"\"\"\n",
    "url = 'https://kino-code.work/python-scraping/'\n",
    "response = req.urlopen(url)\n",
    "parse_html = BeautifulSoup(response, 'html.parser')\n",
    "title_lists = parse_html.find_all('a')\n",
    "\n",
    "\n",
    "\"\"\"\n",
    "①抽出したaタグのタイトル（テキスト）と、urlをそれぞれ抽出したいので、空の配列を定義\n",
    "②for文でリスト内の各aタグに対してタイトルとurlをappendメソッドで各配列に追加\n",
    "\"\"\"\n",
    "title_list = []\n",
    "url_list  = []\n",
    "\n",
    "for i in title_lists:\n",
    "    title_list.append(i.string)\n",
    "    url_list.append(i.attrs['href'])\n",
    "\n",
    "\n",
    "\"\"\"\n",
    "①pandasでデータフレーム(TitleとURLというフレーム)を作成\n",
    "②dropnaメソッドで欠損値を除外（anyの部分をallにすると、全ての値が欠損（null)の場合に除外される\n",
    "③str.containsメソッドで特定の文字列が含まれているかどうか判定し、含まれる（true)値のみの新たなフレームを作成、変数に代入\n",
    "④to_csvメソッドで、書き出したいデータフレームを、指定したcsvファイルに書き出す\n",
    "\"\"\"\n",
    "df_title_url = pd.DataFrame({'Title': title_list, 'URL': url_list})\n",
    "df_notnull = df_title_url.dropna(how='any')\n",
    "df_contain_python = df_notnull[df_notnull['Title'].str.contains('Python超入門コース')]\n",
    "df_contain_python.to_csv('/Users/kotakisouichirou/Desktop/output.csv')"
   ]
  },
  {
   "cell_type": "code",
   "execution_count": null,
   "id": "4313f43f-26a4-41fe-b938-7616e099ebb8",
   "metadata": {},
   "outputs": [],
   "source": []
  }
 ],
 "metadata": {
  "kernelspec": {
   "display_name": "Python 3",
   "language": "python",
   "name": "python3"
  },
  "language_info": {
   "codemirror_mode": {
    "name": "ipython",
    "version": 3
   },
   "file_extension": ".py",
   "mimetype": "text/x-python",
   "name": "python",
   "nbconvert_exporter": "python",
   "pygments_lexer": "ipython3",
   "version": "3.8.8"
  }
 },
 "nbformat": 4,
 "nbformat_minor": 5
}
