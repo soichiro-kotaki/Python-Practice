{
 "cells": [
  {
   "cell_type": "code",
   "execution_count": 11,
   "id": "e62f517c-d732-4b73-b608-dffccf7f28be",
   "metadata": {},
   "outputs": [],
   "source": [
    "from bs4 import BeautifulSoup\n",
    "import requests\n",
    "import pandas as pd\n",
    "import time"
   ]
  },
  {
   "cell_type": "code",
   "execution_count": 14,
   "id": "bd88ebc7-74a1-4b2a-965e-ff9fc77ca914",
   "metadata": {},
   "outputs": [
    {
     "output_type": "stream",
     "name": "stdout",
     "text": [
      "<Response [200]>\n"
     ]
    }
   ],
   "source": [
    "url = 'https://kino-code.work/python-super-basic-course/'\n",
    "res = requests.get(url)\n",
    "time.sleep(3)"
   ]
  },
  {
   "cell_type": "code",
   "execution_count": 18,
   "id": "f6db00df-42b9-4dea-8fcd-f2d2d53bc7a0",
   "metadata": {
    "tags": []
   },
   "outputs": [],
   "source": [
    "soup = BeautifulSoup(res.text, 'html.parser')"
   ]
  },
  {
   "cell_type": "code",
   "execution_count": 20,
   "id": "cc341b7b-d473-44e6-b0a7-96cc0bfafcc8",
   "metadata": {},
   "outputs": [],
   "source": [
    "contents = soup.find(class_='entry-content')"
   ]
  },
  {
   "cell_type": "code",
   "execution_count": 19,
   "id": "912b872f-3d25-43e1-9b35-8b731f9e097f",
   "metadata": {},
   "outputs": [],
   "source": [
    "get_a = contents.find_all('a')"
   ]
  },
  {
   "cell_type": "code",
   "execution_count": 36,
   "id": "941cbc68-de93-4e69-bd51-956bff811975",
   "metadata": {},
   "outputs": [],
   "source": [
    "title_links = []\n",
    "for i in range(len(get_a)):\n",
    "    try:\n",
    "        link_ = get_a[i].get('href')\n",
    "        title_links.append(link_)\n",
    "    except:\n",
    "        pass"
   ]
  },
  {
   "cell_type": "code",
   "execution_count": 35,
   "id": "3ad59ebb-c3c8-4c49-b38a-2d44decfa7e1",
   "metadata": {},
   "outputs": [
    {
     "output_type": "execute_result",
     "data": {
      "text/plain": [
       "['https://kino-code.work/course-python01-course-introduction/',\n",
       " 'https://kino-code.work/course-python02-what-python/',\n",
       " 'https://kino-code.work/course-python03-environment/',\n",
       " 'https://kino-code.work/course-python03-environment-for/',\n",
       " 'https://kino-code.work/course-python04-basic-structure/',\n",
       " 'https://kino-code.work/course-python05-runtime/',\n",
       " 'https://kino-code.work/course-python06-variable/',\n",
       " 'https://kino-code.work/course-python07-data-type/',\n",
       " 'https://kino-code.work/coruse-python08-list/',\n",
       " 'https://kino-code.work/course-python09-operator/',\n",
       " 'https://kino-code.work/course-python10-conditional-branch/',\n",
       " 'https://kino-code.work/course-python11-repetition/',\n",
       " 'https://kino-code.work/course-python12-function/',\n",
       " 'https://kino-code.work/course-python13-class/',\n",
       " 'https://kino-code.work/course-python14-practice/']"
      ]
     },
     "metadata": {},
     "execution_count": 35
    }
   ],
   "source": [
    "title_links"
   ]
  },
  {
   "cell_type": "code",
   "execution_count": null,
   "id": "c6d4c72f-850a-4923-acc6-a42f7b1e26c1",
   "metadata": {},
   "outputs": [],
   "source": []
  }
 ],
 "metadata": {
  "kernelspec": {
   "name": "python3",
   "display_name": "Python 3.8.8 64-bit ('base': conda)"
  },
  "language_info": {
   "codemirror_mode": {
    "name": "ipython",
    "version": 3
   },
   "file_extension": ".py",
   "mimetype": "text/x-python",
   "name": "python",
   "nbconvert_exporter": "python",
   "pygments_lexer": "ipython3",
   "version": "3.8.8"
  },
  "interpreter": {
   "hash": "7d102eb92fb8f5d865b0aa20fa4ec3256fa18221692d3b01d14a0d4969477975"
  }
 },
 "nbformat": 4,
 "nbformat_minor": 5
}